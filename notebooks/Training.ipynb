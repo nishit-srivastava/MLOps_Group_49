{
 "cells": [
  {
   "cell_type": "code",
   "execution_count": 123,
   "id": "dddefc55-c910-4181-a474-cc9b064775a7",
   "metadata": {},
   "outputs": [],
   "source": [
    "import numpy as np\n",
    "import pandas as pd\n",
    "\n",
    "from sklearn.datasets import fetch_california_housing\n",
    "from sklearn.model_selection import train_test_split\n",
    "from sklearn.preprocessing import StandardScaler\n",
    "from sklearn.linear_model import LinearRegression\n",
    "from sklearn.metrics import mean_squared_error, r2_score\n",
    "from sklearn.datasets import fetch_california_housing\n",
    "from sklearn.model_selection import train_test_split\n",
    "from sklearn.tree import DecisionTreeRegressor\n",
    "from sklearn.model_selection import GridSearchCV"
   ]
  },
  {
   "cell_type": "code",
   "execution_count": 124,
   "id": "165bf029-7db3-46da-a4d6-9a79ec9f1962",
   "metadata": {},
   "outputs": [],
   "source": [
    "housing = fetch_california_housing()\n",
    "df = pd.DataFrame(housing.data, columns=housing.feature_names)\n",
    "df['MedHouseVal']  = housing.target"
   ]
  },
  {
   "cell_type": "code",
   "execution_count": 125,
   "id": "20f26701-8564-4139-960a-24da883d8ffc",
   "metadata": {},
   "outputs": [],
   "source": [
    "lowcorricated = ['AveBedrms', 'Population', 'AveOccup','Longitude']\n",
    "df = df.drop(columns=lowcorricated)"
   ]
  },
  {
   "cell_type": "code",
   "execution_count": 126,
   "id": "a2489025-c14a-4e6d-95d9-30ebe004d214",
   "metadata": {},
   "outputs": [],
   "source": [
    "x = df.drop('MedHouseVal', axis=1)\n",
    "y = df['MedHouseVal']"
   ]
  },
  {
   "cell_type": "code",
   "execution_count": 127,
   "id": "a089ec91-53f7-4b3e-9e91-1a46e8186a15",
   "metadata": {},
   "outputs": [],
   "source": [
    "X_train, X_test, y_train, y_test = train_test_split(x, y, test_size=0.2, random_state=42)"
   ]
  },
  {
   "cell_type": "code",
   "execution_count": 135,
   "id": "fde18905-5f53-4204-9a64-dd7ad8c34173",
   "metadata": {},
   "outputs": [
    {
     "name": "stderr",
     "output_type": "stream",
     "text": [
      "2025/08/03 10:09:40 WARNING mlflow.models.model: `artifact_path` is deprecated. Please use `name` instead.\n",
      "\u001b[31m2025/08/03 10:09:43 WARNING mlflow.models.model: Model logged without a signature and input example. Please set `input_example` parameter when logging the model to auto infer the model signature.\u001b[0m\n",
      "Registered model 'LinearRegressionModel' already exists. Creating a new version of this model...\n",
      "Created version '15' of model 'LinearRegressionModel'.\n"
     ]
    },
    {
     "name": "stdout",
     "output_type": "stream",
     "text": [
      "\n",
      "Linear Regression:\n",
      "  MSE: 0.6495\n",
      "  R²: 0.5043\n"
     ]
    },
    {
     "name": "stderr",
     "output_type": "stream",
     "text": [
      "2025/08/03 10:09:45 WARNING mlflow.models.model: `artifact_path` is deprecated. Please use `name` instead.\n",
      "\u001b[31m2025/08/03 10:09:47 WARNING mlflow.models.model: Model logged without a signature and input example. Please set `input_example` parameter when logging the model to auto infer the model signature.\u001b[0m\n"
     ]
    },
    {
     "name": "stdout",
     "output_type": "stream",
     "text": [
      "\n",
      "Tuned Decision Tree Regressor:\n",
      "  Best Parameters: {'max_depth': 10, 'min_samples_leaf': 4, 'min_samples_split': 10}\n",
      "  MSE: 0.5480\n",
      "  R²: 0.5818\n",
      "\n",
      "✅ Best Model: DecisionTreeRegressorModel with R² = 0.5818\n",
      "   Run ID: c817527b086e4650b4fb21fc381cf3b5\n",
      "   Metrics saved to: best_model_metrics.yaml\n",
      "   Model registered as: ACaliforniaHousingModel (from: runs:/1450f1c9110640c89419761e465d777c/decision_tree_model)\n"
     ]
    },
    {
     "name": "stderr",
     "output_type": "stream",
     "text": [
      "Registered model 'DecisionTreeRegressorModel' already exists. Creating a new version of this model...\n",
      "Created version '14' of model 'DecisionTreeRegressorModel'.\n"
     ]
    }
   ],
   "source": [
    "import mlflow\n",
    "import mlflow.sklearn\n",
    "from sklearn.linear_model import LinearRegression\n",
    "from sklearn.tree import DecisionTreeRegressor\n",
    "from sklearn.model_selection import GridSearchCV\n",
    "from sklearn.metrics import mean_squared_error, r2_score\n",
    "from mlflow.tracking import MlflowClient\n",
    "import yaml\n",
    "\n",
    "# Replace these with your actual training data\n",
    "# X_train, X_test, y_train, y_test must be defined before running this script\n",
    "\n",
    "# Set MLflow experiment\n",
    "mlflow.set_experiment(\"Model_Comparison_Regression_MLOPs\")\n",
    "\n",
    "best_overall_model = None\n",
    "best_overall_r2 = float('-inf')\n",
    "best_model_name = \"\"\n",
    "best_run_id = \"\"\n",
    "best_artifact_path = \"\"\n",
    "\n",
    "# --- Linear Regression ---\n",
    "with mlflow.start_run(run_name=\"Linear_Regression\") as run_lr:\n",
    "    lr_model = LinearRegression()\n",
    "    lr_model.fit(X_train, y_train)\n",
    "    lr_preds = lr_model.predict(X_test)\n",
    "\n",
    "    mse_lr = float(mean_squared_error(y_test, lr_preds))\n",
    "    r2_lr = float(r2_score(y_test, lr_preds))\n",
    "\n",
    "    mlflow.log_param(\"model_type\", \"LinearRegression\")\n",
    "    mlflow.log_metric(\"mse\", mse_lr)\n",
    "    mlflow.log_metric(\"r2\", r2_lr)\n",
    "\n",
    "    artifact_path_lr = \"linear_regression_model\"\n",
    "    mlflow.sklearn.log_model(\n",
    "        sk_model=lr_model,\n",
    "        artifact_path=artifact_path_lr,\n",
    "        registered_model_name=\"LinearRegressionModel\"\n",
    "    )\n",
    "\n",
    "    print(\"\\nLinear Regression:\")\n",
    "    print(f\"  MSE: {mse_lr:.4f}\")\n",
    "    print(f\"  R²: {r2_lr:.4f}\")\n",
    "\n",
    "    if r2_lr > best_overall_r2:\n",
    "        best_overall_model = lr_model\n",
    "        best_overall_r2 = r2_lr\n",
    "        best_model_name = \"LinearRegressionModel\"\n",
    "        best_run_id = run_lr.info.run_id\n",
    "        best_artifact_path = artifact_path_lr\n",
    "\n",
    "# --- Decision Tree with Grid Search ---\n",
    "with mlflow.start_run(run_name=\"Tuned_Decision_Tree\") as run_dt:\n",
    "    param_grid = {\n",
    "        'max_depth': [3, 5, 10, None],\n",
    "        'min_samples_split': [2, 5, 10],\n",
    "        'min_samples_leaf': [1, 2, 4]\n",
    "    }\n",
    "\n",
    "    grid_search = GridSearchCV(\n",
    "        estimator=DecisionTreeRegressor(random_state=42),\n",
    "        param_grid=param_grid,\n",
    "        scoring='r2',\n",
    "        cv=5,\n",
    "        n_jobs=-1\n",
    "    )\n",
    "    grid_search.fit(X_train, y_train)\n",
    "    best_dt_model = grid_search.best_estimator_\n",
    "    dt_preds = best_dt_model.predict(X_test)\n",
    "\n",
    "    mse_dt = float(mean_squared_error(y_test, dt_preds))\n",
    "    r2_dt = float(r2_score(y_test, dt_preds))\n",
    "\n",
    "    best_params = {\n",
    "        k: (str(v) if v is None else v)\n",
    "        for k, v in grid_search.best_params_.items()\n",
    "    }\n",
    "\n",
    "    mlflow.log_param(\"model_type\", \"DecisionTreeRegressor\")\n",
    "    mlflow.log_params(best_params)\n",
    "    mlflow.log_metric(\"mse\", mse_dt)\n",
    "    mlflow.log_metric(\"r2\", r2_dt)\n",
    "\n",
    "    artifact_path_dt = \"decision_tree_model\"\n",
    "    mlflow.sklearn.log_model(\n",
    "        sk_model=best_dt_model,\n",
    "        artifact_path=artifact_path_dt,\n",
    "        registered_model_name=\"DecisionTreeRegressorModel\"\n",
    "    )\n",
    "\n",
    "    print(\"\\nTuned Decision Tree Regressor:\")\n",
    "    print(f\"  Best Parameters: {best_params}\")\n",
    "    print(f\"  MSE: {mse_dt:.4f}\")\n",
    "    print(f\"  R²: {r2_dt:.4f}\")\n",
    "\n",
    "    if r2_dt > best_overall_r2:\n",
    "        best_overall_model = best_dt_model\n",
    "        best_overall_r2 = r2_dt\n",
    "        best_model_name = \"DecisionTreeRegressorModel\"\n",
    "        best_run_id = run_dt.info.run_id\n",
    "        best_artifact_path = artifact_path_dt\n",
    "\n",
    "# --- Export metrics safely to YAML ---\n",
    "client = MlflowClient()\n",
    "\n",
    "mse_history = client.get_metric_history(best_run_id, \"mse\")\n",
    "r2_history = client.get_metric_history(best_run_id, \"r2\")\n",
    "\n",
    "# Convert to primitive dictionaries\n",
    "mse_safe = [{\n",
    "    \"key\": m.key,\n",
    "    \"value\": m.value,\n",
    "    \"step\": m.step,\n",
    "    \"timestamp\": m.timestamp,\n",
    "    \"run_id\": m.run_id,\n",
    "    \"model_id\": getattr(m, \"model_id\", None)\n",
    "} for m in mse_history]\n",
    "\n",
    "r2_safe = [{\n",
    "    \"key\": m.key,\n",
    "    \"value\": m.value,\n",
    "    \"step\": m.step,\n",
    "    \"timestamp\": m.timestamp,\n",
    "    \"run_id\": m.run_id,\n",
    "    \"model_id\": getattr(m, \"model_id\", None)\n",
    "} for m in r2_history]\n",
    "\n",
    "# Save to YAML\n",
    "with open(\"best_model_metrics.yaml\", \"w\") as f:\n",
    "    yaml.dump({\n",
    "        \"best_model_name\": best_model_name,\n",
    "        \"best_run_id\": best_run_id,\n",
    "        \"mse_history\": mse_safe,\n",
    "        \"r2_history\": r2_safe\n",
    "    }, f)\n",
    "\n",
    "\n",
    "# --- Final Output ---\n",
    "print(f\"\\n✅ Best Model: {best_model_name} with R² = {best_overall_r2:.4f}\")\n",
    "print(f\"   Run ID: {best_run_id}\")\n",
    "print(\"   Metrics saved to: best_model_metrics.yaml\")\n",
    "\n"
   ]
  },
  {
   "cell_type": "code",
   "execution_count": 136,
   "id": "e8aa469f-6aff-4e7a-95bf-ec3f3145e021",
   "metadata": {},
   "outputs": [
    {
     "name": "stderr",
     "output_type": "stream",
     "text": [
      "Successfully registered model 'HousingPricePredication'.\n",
      "2025/08/03 10:09:58 WARNING mlflow.tracking._model_registry.fluent: Run with id c817527b086e4650b4fb21fc381cf3b5 has no artifacts at artifact path 'decision_tree_model', registering model based on models:/m-9711d7091b1c42319c646767b650912e instead\n",
      "Created version '1' of model 'HousingPricePredication'.\n"
     ]
    }
   ],
   "source": [
    "# --- Register the best model ---\n",
    "model_uri = f\"runs:/{best_run_id}/{best_artifact_path}\"\n",
    "registration_result = mlflow.register_model(\n",
    "    model_uri=model_uri,\n",
    "    name=\"HousingPricePredication\"\n",
    ")\n"
   ]
  },
  {
   "cell_type": "code",
   "execution_count": 141,
   "id": "bc173940-7105-429c-80ab-a57edb43f3db",
   "metadata": {},
   "outputs": [],
   "source": [
    "import pickle\n",
    "\n",
    "with open(\"../models/model.pkl\", \"wb\") as f:\n",
    "    pickle.dump(best_dt_model, f)"
   ]
  },
  {
   "cell_type": "code",
   "execution_count": null,
   "id": "cb9a7853-a805-493b-91bd-36dd7838baaa",
   "metadata": {},
   "outputs": [],
   "source": []
  }
 ],
 "metadata": {
  "kernelspec": {
   "display_name": "Python 3 (ipykernel)",
   "language": "python",
   "name": "python3"
  },
  "language_info": {
   "codemirror_mode": {
    "name": "ipython",
    "version": 3
   },
   "file_extension": ".py",
   "mimetype": "text/x-python",
   "name": "python",
   "nbconvert_exporter": "python",
   "pygments_lexer": "ipython3",
   "version": "3.12.3"
  }
 },
 "nbformat": 4,
 "nbformat_minor": 5
}
