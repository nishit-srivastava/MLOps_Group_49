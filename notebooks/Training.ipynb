{
 "cells": [
  {
   "cell_type": "code",
   "execution_count": 164,
   "id": "dddefc55-c910-4181-a474-cc9b064775a7",
   "metadata": {},
   "outputs": [
    {
     "name": "stderr",
     "output_type": "stream",
     "text": [
      "<frozen importlib._bootstrap>:488: RuntimeWarning: pyarrow.lib.ChunkedArray size changed, may indicate binary incompatibility. Expected 64 from C header, got 72 from PyObject\n",
      "<frozen importlib._bootstrap>:488: RuntimeWarning: pyarrow.lib._Tabular size changed, may indicate binary incompatibility. Expected 24 from C header, got 32 from PyObject\n",
      "<frozen importlib._bootstrap>:488: RuntimeWarning: pyarrow.lib.Table size changed, may indicate binary incompatibility. Expected 56 from C header, got 64 from PyObject\n",
      "<frozen importlib._bootstrap>:488: RuntimeWarning: pyarrow.lib.ChunkedArray size changed, may indicate binary incompatibility. Expected 64 from C header, got 72 from PyObject\n",
      "<frozen importlib._bootstrap>:488: RuntimeWarning: pyarrow.lib._Tabular size changed, may indicate binary incompatibility. Expected 24 from C header, got 32 from PyObject\n",
      "<frozen importlib._bootstrap>:488: RuntimeWarning: pyarrow.lib.Table size changed, may indicate binary incompatibility. Expected 56 from C header, got 64 from PyObject\n",
      "/media/gaurav/ubuntudata/SemThree/MLops/mlopsenv/lib/python3.12/site-packages/tqdm/auto.py:21: TqdmWarning: IProgress not found. Please update jupyter and ipywidgets. See https://ipywidgets.readthedocs.io/en/stable/user_install.html\n",
      "  from .autonotebook import tqdm as notebook_tqdm\n",
      "None of PyTorch, TensorFlow >= 2.0, or Flax have been found. Models won't be available and only tokenizers, configuration and file/data utilities can be used.\n"
     ]
    }
   ],
   "source": [
    "import numpy as np\n",
    "import pandas as pd\n",
    "\n",
    "from feast import FeatureStore\n",
    "\n",
    "from sklearn.datasets import fetch_california_housing\n",
    "from sklearn.model_selection import train_test_split\n",
    "from sklearn.preprocessing import StandardScaler\n",
    "from sklearn.linear_model import LinearRegression\n",
    "from sklearn.metrics import mean_squared_error, r2_score\n",
    "from sklearn.datasets import fetch_california_housing\n",
    "from sklearn.model_selection import train_test_split\n",
    "from sklearn.tree import DecisionTreeRegressor\n",
    "from sklearn.model_selection import GridSearchCV"
   ]
  },
  {
   "cell_type": "code",
   "execution_count": 165,
   "id": "165bf029-7db3-46da-a4d6-9a79ec9f1962",
   "metadata": {},
   "outputs": [
    {
     "name": "stderr",
     "output_type": "stream",
     "text": [
      "<frozen importlib._bootstrap>:488: RuntimeWarning: pyarrow.lib.ChunkedArray size changed, may indicate binary incompatibility. Expected 64 from C header, got 72 from PyObject\n",
      "<frozen importlib._bootstrap>:488: RuntimeWarning: pyarrow.lib._Tabular size changed, may indicate binary incompatibility. Expected 24 from C header, got 32 from PyObject\n",
      "<frozen importlib._bootstrap>:488: RuntimeWarning: pyarrow.lib.Table size changed, may indicate binary incompatibility. Expected 56 from C header, got 64 from PyObject\n"
     ]
    },
    {
     "name": "stdout",
     "output_type": "stream",
     "text": [
      "Retrieving training data from Feast...\n",
      "\n",
      "--- Training Data ---\n",
      "                   event_timestamp house_id  MedHouseVal  MedInc  HouseAge  \\\n",
      "0 2025-07-05 12:44:49.947909+00:00    11001      5.00001  9.3845      26.0   \n",
      "1 2025-07-05 12:44:49.947909+00:00     5734      4.29100  5.1718      31.0   \n",
      "2 2025-07-05 12:44:49.947909+00:00     1596      3.10300  5.2079      21.0   \n",
      "3 2025-07-05 12:44:49.947909+00:00      604      1.95700  3.3021      36.0   \n",
      "4 2025-07-05 12:44:49.947909+00:00    13888      0.64700  2.0000      15.0   \n",
      "\n",
      "   AveBedrms  Latitude  \n",
      "0   1.010724     33.75  \n",
      "1   1.063985     34.16  \n",
      "2   1.086522     37.89  \n",
      "3   1.068522     37.69  \n",
      "4   1.467078     34.85  \n",
      "\n",
      "--- Training Model ---\n"
     ]
    }
   ],
   "source": [
    "# 1. Connect to the feature store\n",
    "store = FeatureStore(\"/media/gaurav/ubuntudata/SemThree/MLops/Assigment1/MLOps_Group_49/feature_store/housing_feature_repo/feature_repo\")\n",
    "\n",
    "# 2. Create the entity DataFrame\n",
    "# This DataFrame contains the entities and timestamps for which we want features.\n",
    "# It must also contain the target variable for training.\n",
    "entity_df = pd.read_parquet(\"/media/gaurav/ubuntudata/SemThree/MLops/Assigment1/MLOps_Group_49/feature_store/housing_feature_repo/feature_repo/data/housing_features.parquet\")[[\n",
    "    \"event_timestamp\",\n",
    "    \"house_id\",\n",
    "    \"MedHouseVal\"\n",
    "]]\n",
    "\n",
    "# 3. Retrieve historical features to build the training dataset\n",
    "print(\"Retrieving training data from Feast...\")\n",
    "training_data = store.get_historical_features(\n",
    "    entity_df=entity_df,\n",
    "    features=[\n",
    "        \"location_features:MedInc\",\n",
    "        \"location_features:HouseAge\",\n",
    "        \"location_features:AveBedrms\",\n",
    "        \"location_features:Latitude\",\n",
    "    ],\n",
    ").to_df()\n",
    "\n",
    "print(\"\\n--- Training Data ---\")\n",
    "print(training_data.head())\n",
    "\n",
    "# 4. Train a model\n",
    "print(\"\\n--- Training Model ---\")\n",
    "\n",
    "# Define features (X) and target (y)\n",
    "X = training_data[['MedInc', 'HouseAge', 'AveBedrms', 'Latitude']]\n",
    "y = training_data['MedHouseVal']\n",
    "\n",
    "# Split data for training and testing\n",
    "\n"
   ]
  },
  {
   "cell_type": "code",
   "execution_count": 166,
   "id": "a089ec91-53f7-4b3e-9e91-1a46e8186a15",
   "metadata": {},
   "outputs": [],
   "source": [
    "X_train, X_test, y_train, y_test = train_test_split(X, y, test_size=0.2, random_state=42)"
   ]
  },
  {
   "cell_type": "code",
   "execution_count": 167,
   "id": "fde18905-5f53-4204-9a64-dd7ad8c34173",
   "metadata": {},
   "outputs": [
    {
     "name": "stderr",
     "output_type": "stream",
     "text": [
      "2025/08/03 13:50:52 WARNING mlflow.models.model: `artifact_path` is deprecated. Please use `name` instead.\n",
      "/media/gaurav/ubuntudata/SemThree/MLops/mlopsenv/lib/python3.12/site-packages/mlflow/models/model.py:421: DeprecationWarning: datetime.datetime.utcnow() is deprecated and scheduled for removal in a future version. Use timezone-aware objects to represent datetimes in UTC: datetime.datetime.now(datetime.UTC).\n",
      "  self.utc_time_created = str(utc_time_created or datetime.utcnow())\n",
      "\u001b[31m2025/08/03 13:51:00 WARNING mlflow.models.model: Model logged without a signature and input example. Please set `input_example` parameter when logging the model to auto infer the model signature.\u001b[0m\n"
     ]
    },
    {
     "name": "stdout",
     "output_type": "stream",
     "text": [
      "\n",
      "Linear Regression:\n",
      "  MSE: 0.6366\n",
      "  R²: 0.5197\n"
     ]
    },
    {
     "name": "stderr",
     "output_type": "stream",
     "text": [
      "Registered model 'LinearRegressionModel' already exists. Creating a new version of this model...\n",
      "Created version '18' of model 'LinearRegressionModel'.\n",
      "2025/08/03 13:51:42 WARNING mlflow.models.model: `artifact_path` is deprecated. Please use `name` instead.\n",
      "/media/gaurav/ubuntudata/SemThree/MLops/mlopsenv/lib/python3.12/site-packages/mlflow/models/model.py:421: DeprecationWarning: datetime.datetime.utcnow() is deprecated and scheduled for removal in a future version. Use timezone-aware objects to represent datetimes in UTC: datetime.datetime.now(datetime.UTC).\n",
      "  self.utc_time_created = str(utc_time_created or datetime.utcnow())\n",
      "\u001b[31m2025/08/03 13:52:08 WARNING mlflow.models.model: Model logged without a signature and input example. Please set `input_example` parameter when logging the model to auto infer the model signature.\u001b[0m\n"
     ]
    },
    {
     "name": "stdout",
     "output_type": "stream",
     "text": [
      "\n",
      "Tuned Decision Tree Regressor:\n",
      "  Best Parameters: {'max_depth': 10, 'min_samples_leaf': 4, 'min_samples_split': 10}\n",
      "  MSE: 0.5576\n",
      "  R²: 0.5794\n",
      "\n",
      "✅ Best Model: DecisionTreeRegressorModel with R² = 0.5794\n",
      "   Run ID: 8dcd8da2dff24a2ba139d12041776e1c\n",
      "   Metrics saved to: best_model_metrics.yaml\n"
     ]
    },
    {
     "name": "stderr",
     "output_type": "stream",
     "text": [
      "Registered model 'DecisionTreeRegressorModel' already exists. Creating a new version of this model...\n",
      "Created version '17' of model 'DecisionTreeRegressorModel'.\n"
     ]
    }
   ],
   "source": [
    "import mlflow\n",
    "import mlflow.sklearn\n",
    "from sklearn.linear_model import LinearRegression\n",
    "from sklearn.tree import DecisionTreeRegressor\n",
    "from sklearn.model_selection import GridSearchCV\n",
    "from sklearn.metrics import mean_squared_error, r2_score\n",
    "from mlflow.tracking import MlflowClient\n",
    "import yaml\n",
    "\n",
    "# Replace these with your actual training data\n",
    "# X_train, X_test, y_train, y_test must be defined before running this script\n",
    "\n",
    "# Set MLflow experiment\n",
    "mlflow.set_experiment(\"Model_Comparison_Regression_MLOPs\")\n",
    "\n",
    "best_overall_model = None\n",
    "best_overall_r2 = float('-inf')\n",
    "best_model_name = \"\"\n",
    "best_run_id = \"\"\n",
    "best_artifact_path = \"\"\n",
    "\n",
    "# --- Linear Regression ---\n",
    "with mlflow.start_run(run_name=\"Linear_Regression\") as run_lr:\n",
    "    lr_model = LinearRegression()\n",
    "    lr_model.fit(X_train, y_train)\n",
    "    lr_preds = lr_model.predict(X_test)\n",
    "\n",
    "    mse_lr = float(mean_squared_error(y_test, lr_preds))\n",
    "    r2_lr = float(r2_score(y_test, lr_preds))\n",
    "\n",
    "    mlflow.log_param(\"model_type\", \"LinearRegression\")\n",
    "    mlflow.log_metric(\"mse\", mse_lr)\n",
    "    mlflow.log_metric(\"r2\", r2_lr)\n",
    "\n",
    "    artifact_path_lr = \"linear_regression_model\"\n",
    "    mlflow.sklearn.log_model(\n",
    "        sk_model=lr_model,\n",
    "        artifact_path=artifact_path_lr,\n",
    "        registered_model_name=\"LinearRegressionModel\"\n",
    "    )\n",
    "\n",
    "    print(\"\\nLinear Regression:\")\n",
    "    print(f\"  MSE: {mse_lr:.4f}\")\n",
    "    print(f\"  R²: {r2_lr:.4f}\")\n",
    "\n",
    "    if r2_lr > best_overall_r2:\n",
    "        best_overall_model = lr_model\n",
    "        best_overall_r2 = r2_lr\n",
    "        best_model_name = \"LinearRegressionModel\"\n",
    "        best_run_id = run_lr.info.run_id\n",
    "        best_artifact_path = artifact_path_lr\n",
    "\n",
    "# --- Decision Tree with Grid Search ---\n",
    "with mlflow.start_run(run_name=\"Tuned_Decision_Tree\") as run_dt:\n",
    "    param_grid = {\n",
    "        'max_depth': [3, 5, 10, None],\n",
    "        'min_samples_split': [2, 5, 10],\n",
    "        'min_samples_leaf': [1, 2, 4]\n",
    "    }\n",
    "\n",
    "    grid_search = GridSearchCV(\n",
    "        estimator=DecisionTreeRegressor(random_state=42),\n",
    "        param_grid=param_grid,\n",
    "        scoring='r2',\n",
    "        cv=5,\n",
    "        n_jobs=-1\n",
    "    )\n",
    "    grid_search.fit(X_train, y_train)\n",
    "    best_dt_model = grid_search.best_estimator_\n",
    "    dt_preds = best_dt_model.predict(X_test)\n",
    "\n",
    "    mse_dt = float(mean_squared_error(y_test, dt_preds))\n",
    "    r2_dt = float(r2_score(y_test, dt_preds))\n",
    "\n",
    "    best_params = {\n",
    "        k: (str(v) if v is None else v)\n",
    "        for k, v in grid_search.best_params_.items()\n",
    "    }\n",
    "\n",
    "    mlflow.log_param(\"model_type\", \"DecisionTreeRegressor\")\n",
    "    mlflow.log_params(best_params)\n",
    "    mlflow.log_metric(\"mse\", mse_dt)\n",
    "    mlflow.log_metric(\"r2\", r2_dt)\n",
    "\n",
    "    artifact_path_dt = \"decision_tree_model\"\n",
    "    mlflow.sklearn.log_model(\n",
    "        sk_model=best_dt_model,\n",
    "        artifact_path=artifact_path_dt,\n",
    "        registered_model_name=\"DecisionTreeRegressorModel\"\n",
    "    )\n",
    "\n",
    "    print(\"\\nTuned Decision Tree Regressor:\")\n",
    "    print(f\"  Best Parameters: {best_params}\")\n",
    "    print(f\"  MSE: {mse_dt:.4f}\")\n",
    "    print(f\"  R²: {r2_dt:.4f}\")\n",
    "\n",
    "    if r2_dt > best_overall_r2:\n",
    "        best_overall_model = best_dt_model\n",
    "        best_overall_r2 = r2_dt\n",
    "        best_model_name = \"DecisionTreeRegressorModel\"\n",
    "        best_run_id = run_dt.info.run_id\n",
    "        best_artifact_path = artifact_path_dt\n",
    "\n",
    "# --- Export metrics safely to YAML ---\n",
    "client = MlflowClient()\n",
    "\n",
    "mse_history = client.get_metric_history(best_run_id, \"mse\")\n",
    "r2_history = client.get_metric_history(best_run_id, \"r2\")\n",
    "\n",
    "# Convert to primitive dictionaries\n",
    "mse_safe = [{\n",
    "    \"key\": m.key,\n",
    "    \"value\": m.value,\n",
    "    \"step\": m.step,\n",
    "    \"timestamp\": m.timestamp,\n",
    "    \"run_id\": m.run_id,\n",
    "    \"model_id\": getattr(m, \"model_id\", None)\n",
    "} for m in mse_history]\n",
    "\n",
    "r2_safe = [{\n",
    "    \"key\": m.key,\n",
    "    \"value\": m.value,\n",
    "    \"step\": m.step,\n",
    "    \"timestamp\": m.timestamp,\n",
    "    \"run_id\": m.run_id,\n",
    "    \"model_id\": getattr(m, \"model_id\", None)\n",
    "} for m in r2_history]\n",
    "\n",
    "# Save to YAML\n",
    "with open(\"best_model_metrics.yaml\", \"w\") as f:\n",
    "    yaml.dump({\n",
    "        \"best_model_name\": best_model_name,\n",
    "        \"best_run_id\": best_run_id,\n",
    "        \"mse_history\": mse_safe,\n",
    "        \"r2_history\": r2_safe\n",
    "    }, f)\n",
    "\n",
    "\n",
    "# --- Final Output ---\n",
    "print(f\"\\n✅ Best Model: {best_model_name} with R² = {best_overall_r2:.4f}\")\n",
    "print(f\"   Run ID: {best_run_id}\")\n",
    "print(\"   Metrics saved to: best_model_metrics.yaml\")\n",
    "\n"
   ]
  },
  {
   "cell_type": "code",
   "execution_count": 168,
   "id": "e8aa469f-6aff-4e7a-95bf-ec3f3145e021",
   "metadata": {},
   "outputs": [
    {
     "name": "stderr",
     "output_type": "stream",
     "text": [
      "Registered model 'HousingPricePredication' already exists. Creating a new version of this model...\n",
      "2025/08/03 13:52:10 WARNING mlflow.tracking._model_registry.fluent: Run with id 8dcd8da2dff24a2ba139d12041776e1c has no artifacts at artifact path 'decision_tree_model', registering model based on models:/m-727b00743cf043f78913022a013470e5 instead\n",
      "Created version '4' of model 'HousingPricePredication'.\n"
     ]
    }
   ],
   "source": [
    "# --- Register the best model ---\n",
    "model_uri = f\"runs:/{best_run_id}/{best_artifact_path}\"\n",
    "registration_result = mlflow.register_model(\n",
    "    model_uri=model_uri,\n",
    "    name=\"HousingPricePredication\"\n",
    ")\n"
   ]
  },
  {
   "cell_type": "code",
   "execution_count": 169,
   "id": "bc173940-7105-429c-80ab-a57edb43f3db",
   "metadata": {},
   "outputs": [],
   "source": [
    "import pickle\n",
    "\n",
    "with open(\"../models/model.pkl\", \"wb\") as f:\n",
    "    pickle.dump(best_dt_model, f)"
   ]
  },
  {
   "cell_type": "code",
   "execution_count": null,
   "id": "e0d40b60-a503-4898-9165-432422b111e2",
   "metadata": {},
   "outputs": [],
   "source": []
  }
 ],
 "metadata": {
  "kernelspec": {
   "display_name": "Python 3 (ipykernel)",
   "language": "python",
   "name": "python3"
  },
  "language_info": {
   "codemirror_mode": {
    "name": "ipython",
    "version": 3
   },
   "file_extension": ".py",
   "mimetype": "text/x-python",
   "name": "python",
   "nbconvert_exporter": "python",
   "pygments_lexer": "ipython3",
   "version": "3.12.3"
  }
 },
 "nbformat": 4,
 "nbformat_minor": 5
}
